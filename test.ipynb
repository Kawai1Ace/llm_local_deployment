{
 "cells": [
  {
   "cell_type": "code",
   "execution_count": 2,
   "metadata": {},
   "outputs": [
    {
     "data": {
      "text/html": [
       "<pre style=\"white-space:pre;overflow-x:auto;line-height:normal;font-family:Menlo,'DejaVu Sans Mono',consolas,'Courier New',monospace\"><span style=\"font-weight: bold\">{</span>\n",
       "    <span style=\"color: #008000; text-decoration-color: #008000\">'model'</span>: <span style=\"color: #008000; text-decoration-color: #008000\">'qwen1.5-1.8b'</span>,\n",
       "    <span style=\"color: #008000; text-decoration-color: #008000\">'object'</span>: <span style=\"color: #008000; text-decoration-color: #008000\">'chat.completion'</span>,\n",
       "    <span style=\"color: #008000; text-decoration-color: #008000\">'choices'</span>: <span style=\"font-weight: bold\">[</span>\n",
       "        <span style=\"font-weight: bold\">{</span>\n",
       "            <span style=\"color: #008000; text-decoration-color: #008000\">'index'</span>: <span style=\"color: #008080; text-decoration-color: #008080; font-weight: bold\">0</span>,\n",
       "            <span style=\"color: #008000; text-decoration-color: #008000\">'message'</span>: <span style=\"font-weight: bold\">{</span>\n",
       "                <span style=\"color: #008000; text-decoration-color: #008000\">'role'</span>: <span style=\"color: #008000; text-decoration-color: #008000\">'assistant'</span>,\n",
       "                <span style=\"color: #008000; text-decoration-color: #008000\">'content'</span>: \n",
       "<span style=\"color: #008000; text-decoration-color: #008000\">'是的，您今天心情不错。作为一个人工智能语言模型，我无法直接感知到您的情绪或个人经历，但我可以理解并提供积极的信息和</span>\n",
       "<span style=\"color: #008000; text-decoration-color: #008000\">建议，帮助您度过美好的一天。\\n\\n今天的美好可能来源于多种因素。以下是一些可能导致今天感觉良好的原因：\\n\\n1. </span>\n",
       "<span style=\"color: #008000; text-decoration-color: #008000\">好的心情：如果您的心态积极向上，可能会感受到生活中的积极变化或者与他人的良好互动，比如与家人、朋友或同事之间的愉快</span>\n",
       "<span style=\"color: #008000; text-decoration-color: #008000\">交流，或者完成了一个重要的任务或者目标，这些都可能使您感到快乐和满足。\\n\\n2. </span>\n",
       "<span style=\"color: #008000; text-decoration-color: #008000\">心理健康：保持健康的心理状态对我们的生活质量有着重大影响。如果您在日常生活中遇到了压力、焦虑或抑郁等心理问题，尝试</span>\n",
       "<span style=\"color: #008000; text-decoration-color: #008000\">寻找适当的方式来缓解，如进行体育锻炼、冥想、深呼吸、瑜伽或其他放松技巧等，这都可以帮助您缓解压力，提升情绪。\\n\\n3. </span>\n",
       "<span style=\"color: #008000; text-decoration-color: #008000\">乐观的生活态度：积极乐观的态度可以帮助我们更好地应对生活中的挑战和困难，看到生活的光明面，从而体验到更多的快乐和满</span>\n",
       "<span style=\"color: #008000; text-decoration-color: #008000\">足感。尝试关注自己的优点和成功，保持感恩的心态，对于遇到的问题持乐观态度，相信事情总会朝着好的方向发展。\\n\\n4. </span>\n",
       "<span style=\"color: #008000; text-decoration-color: #008000\">美好的自然环境：大自然的美丽和宁静能带给我们愉悦的感觉。您可以选择去公园散步、观赏自然景观、听鸟鸣虫叫等，感受自然</span>\n",
       "<span style=\"color: #008000; text-decoration-color: #008000\">的魅力和宁静，这都能让身心得到放松和愉悦。\\n\\n5. </span>\n",
       "<span style=\"color: #008000; text-decoration-color: #008000\">充实的工作或学习：忙碌而充实的一天可以让我们感到满足和成就感，无论是工作中的晋升、项目完成，还是学习新知识、技能，</span>\n",
       "<span style=\"color: #008000; text-decoration-color: #008000\">只要有所收获，都会让人感到喜悦和自豪。\\n\\n总之，今天是个好日子，是因为您拥有积极的情绪、健康的心理状态、乐观的生活</span>\n",
       "<span style=\"color: #008000; text-decoration-color: #008000\">态度、美丽的自然环境以及充实的工作或学习。无论何时何地，都要记住保持正面的心态和乐观的态度，这样就能让您每一天都充</span>\n",
       "<span style=\"color: #008000; text-decoration-color: #008000\">满阳光，享受生活带来的乐趣和满足感。'</span>\n",
       "            <span style=\"font-weight: bold\">}</span>,\n",
       "            <span style=\"color: #008000; text-decoration-color: #008000\">'finish_reason'</span>: <span style=\"color: #008000; text-decoration-color: #008000\">'stop'</span>\n",
       "        <span style=\"font-weight: bold\">}</span>\n",
       "    <span style=\"font-weight: bold\">]</span>,\n",
       "    <span style=\"color: #008000; text-decoration-color: #008000\">'usage'</span>: <span style=\"font-weight: bold\">{</span><span style=\"color: #008000; text-decoration-color: #008000\">'completion_tokens'</span>: <span style=\"color: #008080; text-decoration-color: #008080; font-weight: bold\">397</span>, <span style=\"color: #008000; text-decoration-color: #008000\">'prompt_tokens'</span>: <span style=\"color: #008080; text-decoration-color: #008080; font-weight: bold\">24</span>, <span style=\"color: #008000; text-decoration-color: #008000\">'total_tokens'</span>: <span style=\"color: #008080; text-decoration-color: #008080; font-weight: bold\">421</span><span style=\"font-weight: bold\">}</span>,\n",
       "    <span style=\"color: #008000; text-decoration-color: #008000\">'created'</span>: <span style=\"color: #008080; text-decoration-color: #008080; font-weight: bold\">1741082230</span>\n",
       "<span style=\"font-weight: bold\">}</span>\n",
       "</pre>\n"
      ],
      "text/plain": [
       "\u001b[1m{\u001b[0m\n",
       "    \u001b[32m'model'\u001b[0m: \u001b[32m'qwen1.5-1.8b'\u001b[0m,\n",
       "    \u001b[32m'object'\u001b[0m: \u001b[32m'chat.completion'\u001b[0m,\n",
       "    \u001b[32m'choices'\u001b[0m: \u001b[1m[\u001b[0m\n",
       "        \u001b[1m{\u001b[0m\n",
       "            \u001b[32m'index'\u001b[0m: \u001b[1;36m0\u001b[0m,\n",
       "            \u001b[32m'message'\u001b[0m: \u001b[1m{\u001b[0m\n",
       "                \u001b[32m'role'\u001b[0m: \u001b[32m'assistant'\u001b[0m,\n",
       "                \u001b[32m'content'\u001b[0m: \n",
       "\u001b[32m'是的，您今天心情不错。作为一个人工智能语言模型，我无法直接感知到您的情绪或个人经历，但我可以理解并提供积极的信息和\u001b[0m\n",
       "\u001b[32m建议，帮助您度过美好的一天。\\n\\n今天的美好可能来源于多种因素。以下是一些可能导致今天感觉良好的原因：\\n\\n1. \u001b[0m\n",
       "\u001b[32m好的心情：如果您的心态积极向上，可能会感受到生活中的积极变化或者与他人的良好互动，比如与家人、朋友或同事之间的愉快\u001b[0m\n",
       "\u001b[32m交流，或者完成了一个重要的任务或者目标，这些都可能使您感到快乐和满足。\\n\\n2. \u001b[0m\n",
       "\u001b[32m心理健康：保持健康的心理状态对我们的生活质量有着重大影响。如果您在日常生活中遇到了压力、焦虑或抑郁等心理问题，尝试\u001b[0m\n",
       "\u001b[32m寻找适当的方式来缓解，如进行体育锻炼、冥想、深呼吸、瑜伽或其他放松技巧等，这都可以帮助您缓解压力，提升情绪。\\n\\n3. \u001b[0m\n",
       "\u001b[32m乐观的生活态度：积极乐观的态度可以帮助我们更好地应对生活中的挑战和困难，看到生活的光明面，从而体验到更多的快乐和满\u001b[0m\n",
       "\u001b[32m足感。尝试关注自己的优点和成功，保持感恩的心态，对于遇到的问题持乐观态度，相信事情总会朝着好的方向发展。\\n\\n4. \u001b[0m\n",
       "\u001b[32m美好的自然环境：大自然的美丽和宁静能带给我们愉悦的感觉。您可以选择去公园散步、观赏自然景观、听鸟鸣虫叫等，感受自然\u001b[0m\n",
       "\u001b[32m的魅力和宁静，这都能让身心得到放松和愉悦。\\n\\n5. \u001b[0m\n",
       "\u001b[32m充实的工作或学习：忙碌而充实的一天可以让我们感到满足和成就感，无论是工作中的晋升、项目完成，还是学习新知识、技能，\u001b[0m\n",
       "\u001b[32m只要有所收获，都会让人感到喜悦和自豪。\\n\\n总之，今天是个好日子，是因为您拥有积极的情绪、健康的心理状态、乐观的生活\u001b[0m\n",
       "\u001b[32m态度、美丽的自然环境以及充实的工作或学习。无论何时何地，都要记住保持正面的心态和乐观的态度，这样就能让您每一天都充\u001b[0m\n",
       "\u001b[32m满阳光，享受生活带来的乐趣和满足感。'\u001b[0m\n",
       "            \u001b[1m}\u001b[0m,\n",
       "            \u001b[32m'finish_reason'\u001b[0m: \u001b[32m'stop'\u001b[0m\n",
       "        \u001b[1m}\u001b[0m\n",
       "    \u001b[1m]\u001b[0m,\n",
       "    \u001b[32m'usage'\u001b[0m: \u001b[1m{\u001b[0m\u001b[32m'completion_tokens'\u001b[0m: \u001b[1;36m397\u001b[0m, \u001b[32m'prompt_tokens'\u001b[0m: \u001b[1;36m24\u001b[0m, \u001b[32m'total_tokens'\u001b[0m: \u001b[1;36m421\u001b[0m\u001b[1m}\u001b[0m,\n",
       "    \u001b[32m'created'\u001b[0m: \u001b[1;36m1741082230\u001b[0m\n",
       "\u001b[1m}\u001b[0m\n"
      ]
     },
     "metadata": {},
     "output_type": "display_data"
    }
   ],
   "source": [
    "import requests\n",
    "from rich import print as rprint\n",
    "\n",
    "url = \"http://0.0.0.0:12356/v1/chat/completions\"\n",
    "\n",
    "headers = {\n",
    "    \"Content-Type\": \"application/json\",\n",
    "    \"Authorization\": \"Bearer YOUR_API_KEY\"\n",
    "}\n",
    "\n",
    "data = {\n",
    "    \"model\": \"qwen1.5-1.8b\",\n",
    "    \"messages\":[\n",
    "        {\"role\": \"user\", \"content\": \"今天真是个好日子\"}\n",
    "    ]\n",
    "}\n",
    "\n",
    "response = requests.post(url, headers=headers, json=data)\n",
    "rprint(response.json())"
   ]
  }
 ],
 "metadata": {
  "kernelspec": {
   "display_name": "study",
   "language": "python",
   "name": "python3"
  },
  "language_info": {
   "codemirror_mode": {
    "name": "ipython",
    "version": 3
   },
   "file_extension": ".py",
   "mimetype": "text/x-python",
   "name": "python",
   "nbconvert_exporter": "python",
   "pygments_lexer": "ipython3",
   "version": "3.10.16"
  }
 },
 "nbformat": 4,
 "nbformat_minor": 2
}
